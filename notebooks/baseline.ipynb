{
 "cells": [
  {
   "cell_type": "markdown",
   "metadata": {},
   "source": [
    "## 1. Testing the most basic approach of concatenating all genes alignments in a single [XMFA](https://darlinglab.org/mauve/user-guide/files.html) (eXtented Multi-FastA) file"
   ]
  },
  {
   "cell_type": "code",
   "execution_count": 79,
   "metadata": {},
   "outputs": [
    {
     "name": "stderr",
     "output_type": "stream",
     "text": [
      "3741.33s - pydevd: Sending message related to process being replaced timed-out after 5 seconds\n"
     ]
    }
   ],
   "source": [
    "! sed -e '$s/$/\\n=/' -s ../test/data/aligned_gene_sequences_clean/*.fas > core_gene_alignment.xmfa"
   ]
  },
  {
   "cell_type": "markdown",
   "metadata": {},
   "source": [
    "Creating a test tree from one of the genes with rapidnj (approach is wrong but, just to get a tree)"
   ]
  },
  {
   "cell_type": "code",
   "execution_count": 80,
   "metadata": {},
   "outputs": [
    {
     "name": "stderr",
     "output_type": "stream",
     "text": [
      "3750.53s - pydevd: Sending message related to process being replaced timed-out after 5 seconds\n"
     ]
    },
    {
     "name": "stdout",
     "output_type": "stream",
     "text": [
      "100.00% \r"
     ]
    }
   ],
   "source": [
    "! rapidnj -i fa  ../test/data/aligned_gene_sequences_clean/acpP.aln.fas > acpP_njtree.nwk"
   ]
  },
  {
   "cell_type": "code",
   "execution_count": 81,
   "metadata": {},
   "outputs": [
    {
     "name": "stderr",
     "output_type": "stream",
     "text": [
      "3758.74s - pydevd: Sending message related to process being replaced timed-out after 5 seconds\n"
     ]
    }
   ],
   "source": [
    "! sed -i \"s/'//g\" acpP_njtree.nwk "
   ]
  },
  {
   "cell_type": "code",
   "execution_count": 82,
   "metadata": {},
   "outputs": [
    {
     "name": "stderr",
     "output_type": "stream",
     "text": [
      "3765.38s - pydevd: Sending message related to process being replaced timed-out after 5 seconds\n"
     ]
    },
    {
     "name": "stdout",
     "output_type": "stream",
     "text": [
      "ClonalFrameML v1.12\n",
      "xmfa_file = true\n",
      "show_progress = true\n",
      "output_filtered = true\n",
      "Finished reading in control file.\n",
      "\n",
      "Read 3 sequences of length 2987 sites from core_gene_alignment.xmfa\n",
      "IMPUTATION AND RECONSTRUCTION OF ANCESTRAL STATES:\n",
      "Analysing 4 sites\n",
      "Empirical nucleotide frequencies:   A 32.6%   C 16.3%   G 22.9%   T 28.2%\n",
      "Maximum log-likelihood for imputation and ancestral state reconstruction = -30.9854\n",
      "Wrote imputed and reconstructed ancestral states to core_gene_test_cfml.ML_sequence.fasta\n",
      "Wrote position cross-reference file to core_gene_test_cfml.position_cross_reference.txt\n",
      "BRANCH LENGTH CORRECTION/RECOMBINATION ANALYSIS:\n",
      "Analysing 987 sites\n",
      "Empirical nucleotide frequencies:   A 32.6%   C 16.3%   G 22.9%   T 28.2%\n",
      "Beginning branch optimization. Key to parameters (and constraints):\n",
      "B   uncorrected branch length\n",
      "L   maximum unnormalized log-posterior per branch\n",
      "P   contribution of the prior to L\n",
      "R   R/theta per branch                                       (> 0)\n",
      "I   mean DNA import length per branch                        (> 0)\n",
      "D   divergence of DNA imported by recombination              (> 0)\n",
      "M   expected number of mutations per branch                  (> 0)\n",
      "nmut = 3.97375157 nU = 984.027022 nsub = 0.0262484312 nI = 2.97297782\n",
      "nU>I = 0.0454484496 dU = 981.054264 nI>U = 0.0595899032 dI = 2.94573612\n",
      "numTrans = 981.008815 0.0454484496 0.0595899032 981.008815\n",
      "params = 0.100098108 946.541424 0.0791066204 0.000452816764 0.00101112235 0.00101112235 ML = -62.8389002\n",
      "nmut = 3.99205351 nU = 986.665537 nsub = 0.00794648772 nI = 0.334463223\n",
      "nU>I = 0.00727434856 dU = 983.666876 nI>U = 0.0097518272 dI = 0.333123931\n",
      "numTrans = 983.659602 0.00727434856 0.0097518272 983.659602\n",
      "params = 0.0964180078 990.672259 0.0975325439 0.000454373849 0.00101112235 0.00101112235 ML = -20.9832782\n",
      "nmut = 3.99489615 nU = 986.830502 nsub = 0.0051038487 nI = 0.169498409\n",
      "nU>I = 0.00553810186 dU = 983.831528 nI>U = 0.00649683028 dI = 0.168472307\n",
      "numTrans = 983.82599 0.00553810186 0.00649683028 983.82599\n",
      "params = 0.0962488388 993.712491 0.0988351449 0.000454625759 0.00101112235 0.00101112235 ML = -21.0888115\n",
      "nmut = 3.99502771 nU = 986.837514 nsub = 0.00497228841 nI = 0.162486041\n",
      "nU>I = 0.00544591902 dU = 983.838524 nI>U = 0.00634345127 dI = 0.161476035\n",
      "numTrans = 983.833078 0.00544591902 0.00634345127 983.833078\n",
      "params = 0.0962398799 993.856993 0.0988903979 0.000454637443 0.00101112235 0.00101112235 ML = -21.0978085\n",
      "MAP = -21.0978085 priorL = 13.2198411 ML = -34.3176496\n",
      "nmut = 4 nU = 987 nsub = 0 nI = 0\n",
      "nU>I = 0 dU = 984 nI>U = 0 dI = 0\n",
      "numTrans = 984 0 0 984\n",
      "ML0 = -28.9780966\n",
      " L = -21.0978085 P = 13.2198411 R = 0.0962398799 I = 993.856993 D = 0.0988903979 in 0.002581 s and 4 evaluations\n",
      " Posterior alphas: R = 1.00544592 I = 1.00634345 D = 1.00497229\n",
      " WARNING: ClonalFrameML log-likelihood ratio of -5.33955299 indicates lack of evidence for recombination\n",
      "Branch GCF_001640785 B = 0.00505561173 M = 0.000454637443\n",
      "Wrote inferred importation status to core_gene_test_cfml.importation_status.txt\n",
      "Wrote filtered alignment to core_gene_test_cfml.filtered.fasta\n",
      "Wrote processed tree to core_gene_test_cfml.labelled_tree.newick\n",
      "All done in 0.000155716667 minutes.\n"
     ]
    }
   ],
   "source": [
    "! ClonalFrameML acpP_njtree.nwk core_gene_alignment.xmfa core_gene_test_cfml -xmfa_file true -show_progress true -output_filtered true"
   ]
  },
  {
   "cell_type": "markdown",
   "metadata": {},
   "source": [
    "This simple approach has different drawbacks:\n",
    "- ClonalFrameML will fail if genomes are missing a gene (if core genome definition is less than 100%)\n",
    "- The XMFA format standard is not respected, and biopython will fail to read the file\n",
    "- The order of the genes is the order of the files in the system\n",
    "- If there are unsupported bases (other than `{A,T,G,C,N,-}`), ClonalFrameML will fail"
   ]
  },
  {
   "cell_type": "code",
   "execution_count": 72,
   "metadata": {},
   "outputs": [],
   "source": [
    "import pysam\n",
    "from pathlib import Path\n",
    "import glob\n",
    "from textwrap import wrap"
   ]
  },
  {
   "cell_type": "code",
   "execution_count": 93,
   "metadata": {},
   "outputs": [],
   "source": [
    "def replace_ambiguous(seq, alphabet=set(['A','T','C','G','N','-'])):\n",
    "    seq = seq.upper()\n",
    "    all_chars = set(seq)\n",
    "    replace_chars = all_chars - alphabet\n",
    "    trans_table = str.maketrans({char: 'N' for char in replace_chars})\n",
    "    return seq.translate(trans_table)"
   ]
  },
  {
   "cell_type": "code",
   "execution_count": 44,
   "metadata": {},
   "outputs": [],
   "source": [
    "fas = [Path(p) for p in glob.glob('../test/data/aligned_gene_sequences_raw/*.fas')]"
   ]
  },
  {
   "cell_type": "code",
   "execution_count": 95,
   "metadata": {},
   "outputs": [],
   "source": [
    "seqdict = {}\n",
    "genomes = set()\n",
    "gene_aln_len = {}\n",
    "for gene in fas:\n",
    "    gene_name = gene.name.split('.')[0]\n",
    "    seqdict[gene_name] = {}\n",
    "    for record in pysam.FastxFile(gene):\n",
    "        gene_aln_len[gene_name] = len(record.sequence)\n",
    "        recname = record.name.split(';')[0]\n",
    "        genomes.add(recname)\n",
    "        seqdict[gene_name][recname] = replace_ambiguous(record.sequence)\n",
    "genomes = sorted(genomes)"
   ]
  },
  {
   "cell_type": "code",
   "execution_count": 96,
   "metadata": {},
   "outputs": [],
   "source": [
    "gene_order = []\n",
    "for record in pysam.FastxFile('../test/data/pan_genome_reference.fa'):\n",
    "    gene_order.append(record.name)"
   ]
  },
  {
   "cell_type": "code",
   "execution_count": 97,
   "metadata": {},
   "outputs": [
    {
     "data": {
      "text/plain": [
       "{'acpP': {'GCF_001640785': 'ATGACTAAAGAAGAGGTATTTACCAAGATTACCGATATCATTGTGGATCATTTTGATGTCGATAAAGCAAAAGTTACAAACGATTTGAACTTTAAAACTGATTTGAATGCAGATTCAATTGATATTGTTGAATTTGTTCTTGAATTGGAAGATACATTTGGCGCGGAAATTTCTGATGAGGATGCTGAAAAGCTTTCCACAGTCGGTGAAGCAGTTGATTTCATTACCGCCAATCAAAAGAAATAA---',\n",
       "  'GCF_007990205': 'ATGACTAAAGAAGAGGTATTTACCAAGATTACCGATATCATTGTGGATCATTTTGATGTCGATAAAGCAAAAGTTACAAACGATTTGAACTTTAAAACTGATTTGAACGCAGATTCAATTGATATTGTTGAATTTGTTCTTGAATTGGAAGATACATTTGGCGCGGAAATTTCTGATGAGGATGCTGAAAAGCTTTCCACAGTCGGTGAAGCAGTTGATTTCATTACCGCCAATCAAAAGAAATAA---',\n",
       "  'GCF_014651215': 'ATGACTAAAGAAGAGGTATTTACCAAGATTACCGATATCATTGTGGATCATTTTGATGTCGATAAAGCAAAAGTTACAAACGATTTGAACTTTAAAACTGATTTGAACGCAGATTCAATTGATATTGTTGAATTTGTTCTTGAATTGGAAGATACATTTGGCGCGGAAATTTCTGATGAGGATGCTGAAAAGCTTTCCACAGTCGGTGAAGCAGTTGATTTCATTACCGCCAATCAAAAGAAATAA---'},\n",
       " 'atpE': {'GCF_001640785': 'ATGGGAGCTATTGCAGCAGGAATTATTATGTTCGGAGCCGCTATCGGTGGTGGTATCGGTGATGCCCTTGTTATTTCAAAAACACTTGAAGGAATGGCACGCCAACCAGAATTATCTGGTCAATTAAGAACAACTATGTTTATTGGTGTTGGTCTTGTTGAAGCTATGCCTATTATCGCTTTCGTTGTGGCATTGTTAGTCATGAACAAGTAG',\n",
       "  'GCF_014651215': 'ATGGGAGCTATTGCAGCAGGAATTATTATGTTCGGAGCCGCTATCAGTGGTGGTATCGGTGATGCCCTTGTTATTTCAAAAACACTTGAAGGAATGGCACGCCAACCAGAATTATCTGGTCAATTAAGAACAACTATGTTTATTGGTGTTGGTCTTGTTGAAGCTATGCCTATTATCGCTTTCGTTGTGGCATTGTTAGTCATGAACAAGTAG'},\n",
       " 'atpF': {'GCF_001640785': 'ATGCTCTCACATTTAATGTTGGGTGCTTCAAATTCGCTGTATCTTGGTGATATGTTGTTCTATGCCATCGTCTTTGTTATTCTCATGTGGGTAATTAAAGTTGTCGCATGGGGACCAGTTACTAAGATGATGAAGGAACGGGCAGATCGAATTTCTAACGATATCGATTCTGCAAAGAAATCACGCACAGATGCCGAAAAGTTAGCTGAACAACGAGAAGAAGCGTTGAAGAATTCTCATGCCGAAGCCTCCACGATTGTAAGCAACGCGAAGGATAATGGGACAAAACAGCGTGAACAAATCGTTGCAAGTGCCCAACAAGAAGCACAAACACTCAAGCAAAATGCTCAAAAGGACATTGAACAAGAGCGAAAAGATGCACTGAAGGGTGCTCAGAATGATGTGGCTAGTTTATCTATTGAAATTGCTTCTAAGATCATTCAAAAAGAATTGAACGCGCAGGATCAAAAACAGTTAATTGATTCTTACATTGAAGGGTTGGGGAAGCAAAATGAGTCTAGATAA',\n",
       "  'GCF_007990205': 'ATGCTCTCACATTTAATGTTGGGTGCTTCAAATTCGCTGTATCTTGGTGATATGTTGCTCTATGCCATCGTCTTTGTTATTCTCATGTGGGTAATTAAAGTTGTCGCATGGGGACCAGTTACTAAGATGATGAAGGAACGGGCAGATCGAATTTCTAACGATATCGATTCTGCAAAGAAATCACGCACAGATGCCGAAAAGTTAGCTGAACAACGAGAAGAAGCGTTGAAGAATTCTCATGCCGAAGCCTCCACGATTGTAAGCAACGCGAAGGATAATGGGACAAAACTGCGTGAACAAATCGTTGCAAGTGCCCAACAAGAAGCACAAACACTCAAGCAAAATGCTCAAAAGGACATTGAACAAGAGCGAAAAGATGCACTGAAGGGTGCTCAGAATGATGTGGCTAGTTTATCTATTGAAATTGCTTCTAAGATCATTCAAAAAGAATTGAACGCGCAGGATCAAAAACAGTTAATTGATTCTTACATTGAAGGGTTGGGGAAGCAAAATGAGTCTAGATAA',\n",
       "  'GCF_014651215': 'ATGCTCTCACATTTAATGTTGGGTGCTTCAAATTCGCTGTATCTTGGTGATATGTTGCTCTATGCCATCGTCTTTGTTATTCTCATGTGGGTAATTAAAGTTGTCGCATGGGGACCAGTTACTAAGATGATGAAGGAACGGGCAGATCGAATTTCTAACGATATCGATTCTGCAAAGAAATCACGCACAGATGCCGAAAAGTTAGCTGAACAACGAGAAGAAGCGTTGAAGAATTCTCATGCCGAAGCCTCCACGATTGTAAGCAACGCGAAGGATAATGGGACAAAACTGCGTGAACAAATCGTTGCAAGTGCCCAACAAGAAGCACAAACACTCAAGCAAAATGCTCAAAAGGACATTGAACAAGAGCGAAAAGATGCACTGAAGGGTGCTCAGAATGATGTGGCTAGTTTATCTATTGAAATTGCTTCTAAGATCATTCAAAAAGAATTGAACGCGCAGGATCAAAAACAGTTAATTGATTCTTACATTGAAGGGTTGGGGAAGCAAAATGAGTCTAGATAA'}}"
      ]
     },
     "execution_count": 97,
     "metadata": {},
     "output_type": "execute_result"
    }
   ],
   "source": [
    "seqdict"
   ]
  },
  {
   "cell_type": "code",
   "execution_count": 98,
   "metadata": {},
   "outputs": [],
   "source": [
    "with(open('core_gene_alignment_test.xmfa', 'w')) as fw:\n",
    "    i = 0\n",
    "    for gene in gene_order:\n",
    "        if gene in seqdict:\n",
    "            fw.write(f\"# {gene}\\n\")\n",
    "            for genome in genomes:\n",
    "                if genome in seqdict[gene]:\n",
    "                    fw.write(f\">{genome}:{i}-{i+gene_aln_len[gene]}\\n\")\n",
    "                    fw.write(\"\\n\".join(wrap(seqdict[gene][genome], 60))+\"\\n\")\n",
    "                        # seqdict[gene][genome]+\"\\n\")\n",
    "                else:\n",
    "                    fw.write(f\">{genome}\\n\")\n",
    "                    fw.write(\"\\n\".join(wrap('-'*gene_aln_len[gene], 60))+\"\\n\")\n",
    "            i += gene_aln_len[gene]\n",
    "            fw.write(\"=\\n\")"
   ]
  },
  {
   "cell_type": "code",
   "execution_count": 99,
   "metadata": {},
   "outputs": [
    {
     "name": "stderr",
     "output_type": "stream",
     "text": [
      "4083.27s - pydevd: Sending message related to process being replaced timed-out after 5 seconds\n"
     ]
    },
    {
     "name": "stdout",
     "output_type": "stream",
     "text": [
      "ClonalFrameML v1.12\n",
      "xmfa_file = true\n",
      "show_progress = true\n",
      "output_filtered = true\n",
      "Finished reading in control file.\n",
      "\n",
      "Read 3 sequences of length 2987 sites from core_gene_alignment_test.xmfa\n",
      "IMPUTATION AND RECONSTRUCTION OF ANCESTRAL STATES:\n",
      "Analysing 4 sites\n",
      "Empirical nucleotide frequencies:   A 33.2%   C 16.3%   G 22.7%   T 27.8%\n",
      "Maximum log-likelihood for imputation and ancestral state reconstruction = -30.9981\n",
      "Wrote imputed and reconstructed ancestral states to core_gene_test_clean_cfml.ML_sequence.fasta\n",
      "Wrote position cross-reference file to core_gene_test_clean_cfml.position_cross_reference.txt\n",
      "BRANCH LENGTH CORRECTION/RECOMBINATION ANALYSIS:\n",
      "Analysing 987 sites\n",
      "Empirical nucleotide frequencies:   A 33.2%   C 16.3%   G 22.7%   T 27.8%\n",
      "Beginning branch optimization. Key to parameters (and constraints):\n",
      "B   uncorrected branch length\n",
      "L   maximum unnormalized log-posterior per branch\n",
      "P   contribution of the prior to L\n",
      "R   R/theta per branch                                       (> 0)\n",
      "I   mean DNA import length per branch                        (> 0)\n",
      "D   divergence of DNA imported by recombination              (> 0)\n",
      "M   expected number of mutations per branch                  (> 0)\n",
      "nmut = 3.97019816 nU = 983.821599 nsub = 0.0298018352 nI = 3.17840054\n",
      "nU>I = 0.045429421 dU = 980.848908 nI>U = 0.0624940252 dI = 3.15109196\n",
      "numTrans = 980.803479 0.045429421 0.0624940252 980.803479\n",
      "params = 0.100100139 944.147513 0.078143158 0.00045250172 0.00101112235 0.00101112235 ML = -62.8515999\n",
      "nmut = 3.99098181 nU = 986.602936 nsub = 0.00901819319 nI = 0.397064218\n",
      "nU>I = 0.00735640839 dU = 983.604287 nI>U = 0.0108315311 dI = 0.395713245\n",
      "numTrans = 983.59693 0.00735640839 0.0108315311 983.59693\n",
      "params = 0.0964269873 989.676007 0.0970483756 0.000454278892 0.00101112235 0.00101112235 ML = -20.9888516\n",
      "nmut = 3.99446539 nU = 986.806602 nsub = 0.00553461105 nI = 0.193397785\n",
      "nU>I = 0.0055630042 dU = 983.807635 nI>U = 0.00692651375 dI = 0.192364505\n",
      "numTrans = 983.802072 0.0055630042 0.00692651375 983.802072\n",
      "params = 0.0962516689 993.312174 0.0986456756 0.00045458754 0.00101112235 0.00101112235 ML = -21.0989007\n",
      "nmut = 3.99465202 nU = 986.816714 nsub = 0.00534798026 nI = 0.183285679\n",
      "nU>I = 0.00545200764 dU = 983.817728 nI>U = 0.00671373874 dI = 0.182271559\n",
      "numTrans = 983.812276 0.00545200764 0.00671373874 983.812276\n",
      "params = 0.0962408519 993.512091 0.0987253046 0.000454604109 0.00101112235 0.00101112235 ML = -21.1104069\n",
      "nmut = 3.99466124 nU = 986.817206 nsub = 0.00533876158 nI = 0.18279402\n",
      "nU>I = 0.00544636666 dU = 983.818219 nI>U = 0.00670319859 dI = 0.181780863\n",
      "numTrans = 983.812773 0.00544636666 0.00670319859 983.812773\n",
      "params = 0.0962403025 993.522006 0.098729166 0.000454604927 0.00101112235 0.00101112235 ML = -21.1109426\n",
      "MAP = -21.1109426 priorL = 13.2210329 ML = -34.3319755\n",
      "nmut = 4 nU = 987 nsub = 0 nI = 0\n",
      "nU>I = 0 dU = 984 nI>U = 0 dI = 0\n",
      "numTrans = 984 0 0 984\n",
      "ML0 = -28.9936968\n",
      " L = -21.1109426 P = 13.2210329 R = 0.0962403025 I = 993.522006 D = 0.098729166 in 0.003945 s and 5 evaluations\n",
      " Posterior alphas: R = 1.00544637 I = 1.0067032 D = 1.00533876\n",
      " WARNING: ClonalFrameML log-likelihood ratio of -5.33827875 indicates lack of evidence for recombination\n",
      "Branch GCF_001640785 B = 0.00505561173 M = 0.000454604927\n",
      "Wrote inferred importation status to core_gene_test_clean_cfml.importation_status.txt\n",
      "Wrote filtered alignment to core_gene_test_clean_cfml.filtered.fasta\n",
      "Wrote processed tree to core_gene_test_clean_cfml.labelled_tree.newick\n",
      "All done in 0.000151216667 minutes.\n"
     ]
    }
   ],
   "source": [
    "! ClonalFrameML acpP_njtree.nwk core_gene_alignment_test.xmfa core_gene_test_clean_cfml -xmfa_file true -show_progress true -output_filtered true"
   ]
  }
 ],
 "metadata": {
  "kernelspec": {
   "display_name": "corecomb",
   "language": "python",
   "name": "python3"
  },
  "language_info": {
   "codemirror_mode": {
    "name": "ipython",
    "version": 3
   },
   "file_extension": ".py",
   "mimetype": "text/x-python",
   "name": "python",
   "nbconvert_exporter": "python",
   "pygments_lexer": "ipython3",
   "version": "3.10.13"
  }
 },
 "nbformat": 4,
 "nbformat_minor": 2
}
